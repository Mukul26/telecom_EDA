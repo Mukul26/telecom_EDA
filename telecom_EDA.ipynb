{
 "cells": [
  {
   "cell_type": "code",
   "execution_count": 275,
   "id": "d23b1897",
   "metadata": {},
   "outputs": [],
   "source": [
    "import numpy as np\n",
    "import pandas as pd\n",
    "import seaborn as sb\n",
    "import matplotlib.pyplot as plt"
   ]
  },
  {
   "cell_type": "code",
   "execution_count": 276,
   "id": "4375ed43",
   "metadata": {},
   "outputs": [],
   "source": [
    "df = pd.read_csv('customer_churn_data.csv')"
   ]
  },
  {
   "cell_type": "code",
   "execution_count": 277,
   "id": "9701fccd",
   "metadata": {
    "scrolled": true
   },
   "outputs": [
    {
     "data": {
      "text/html": [
       "<div>\n",
       "<style scoped>\n",
       "    .dataframe tbody tr th:only-of-type {\n",
       "        vertical-align: middle;\n",
       "    }\n",
       "\n",
       "    .dataframe tbody tr th {\n",
       "        vertical-align: top;\n",
       "    }\n",
       "\n",
       "    .dataframe thead th {\n",
       "        text-align: right;\n",
       "    }\n",
       "</style>\n",
       "<table border=\"1\" class=\"dataframe\">\n",
       "  <thead>\n",
       "    <tr style=\"text-align: right;\">\n",
       "      <th></th>\n",
       "      <th>customerID</th>\n",
       "      <th>gender</th>\n",
       "      <th>SeniorCitizen</th>\n",
       "      <th>Partner</th>\n",
       "      <th>Dependents</th>\n",
       "      <th>tenure</th>\n",
       "      <th>PhoneService</th>\n",
       "      <th>MultipleLines</th>\n",
       "      <th>InternetService</th>\n",
       "      <th>OnlineSecurity</th>\n",
       "      <th>...</th>\n",
       "      <th>DeviceProtection</th>\n",
       "      <th>TechSupport</th>\n",
       "      <th>StreamingTV</th>\n",
       "      <th>StreamingMovies</th>\n",
       "      <th>Contract</th>\n",
       "      <th>PaperlessBilling</th>\n",
       "      <th>PaymentMethod</th>\n",
       "      <th>MonthlyCharges</th>\n",
       "      <th>TotalCharges</th>\n",
       "      <th>Churn</th>\n",
       "    </tr>\n",
       "  </thead>\n",
       "  <tbody>\n",
       "    <tr>\n",
       "      <th>0</th>\n",
       "      <td>7590-VHVEG</td>\n",
       "      <td>Female</td>\n",
       "      <td>0</td>\n",
       "      <td>Yes</td>\n",
       "      <td>No</td>\n",
       "      <td>1</td>\n",
       "      <td>No</td>\n",
       "      <td>No phone service</td>\n",
       "      <td>DSL</td>\n",
       "      <td>No</td>\n",
       "      <td>...</td>\n",
       "      <td>No</td>\n",
       "      <td>No</td>\n",
       "      <td>No</td>\n",
       "      <td>No</td>\n",
       "      <td>Month-to-month</td>\n",
       "      <td>Yes</td>\n",
       "      <td>Electronic check</td>\n",
       "      <td>29.85</td>\n",
       "      <td>29.85</td>\n",
       "      <td>No</td>\n",
       "    </tr>\n",
       "    <tr>\n",
       "      <th>1</th>\n",
       "      <td>5575-GNVDE</td>\n",
       "      <td>Male</td>\n",
       "      <td>0</td>\n",
       "      <td>No</td>\n",
       "      <td>No</td>\n",
       "      <td>34</td>\n",
       "      <td>Yes</td>\n",
       "      <td>No</td>\n",
       "      <td>DSL</td>\n",
       "      <td>Yes</td>\n",
       "      <td>...</td>\n",
       "      <td>Yes</td>\n",
       "      <td>No</td>\n",
       "      <td>No</td>\n",
       "      <td>No</td>\n",
       "      <td>One year</td>\n",
       "      <td>No</td>\n",
       "      <td>Mailed check</td>\n",
       "      <td>56.95</td>\n",
       "      <td>1889.5</td>\n",
       "      <td>No</td>\n",
       "    </tr>\n",
       "    <tr>\n",
       "      <th>2</th>\n",
       "      <td>3668-QPYBK</td>\n",
       "      <td>Male</td>\n",
       "      <td>0</td>\n",
       "      <td>No</td>\n",
       "      <td>No</td>\n",
       "      <td>2</td>\n",
       "      <td>Yes</td>\n",
       "      <td>No</td>\n",
       "      <td>DSL</td>\n",
       "      <td>Yes</td>\n",
       "      <td>...</td>\n",
       "      <td>No</td>\n",
       "      <td>No</td>\n",
       "      <td>No</td>\n",
       "      <td>No</td>\n",
       "      <td>Month-to-month</td>\n",
       "      <td>Yes</td>\n",
       "      <td>Mailed check</td>\n",
       "      <td>53.85</td>\n",
       "      <td>108.15</td>\n",
       "      <td>Yes</td>\n",
       "    </tr>\n",
       "    <tr>\n",
       "      <th>3</th>\n",
       "      <td>7795-CFOCW</td>\n",
       "      <td>Male</td>\n",
       "      <td>0</td>\n",
       "      <td>No</td>\n",
       "      <td>No</td>\n",
       "      <td>45</td>\n",
       "      <td>No</td>\n",
       "      <td>No phone service</td>\n",
       "      <td>DSL</td>\n",
       "      <td>Yes</td>\n",
       "      <td>...</td>\n",
       "      <td>Yes</td>\n",
       "      <td>Yes</td>\n",
       "      <td>No</td>\n",
       "      <td>No</td>\n",
       "      <td>One year</td>\n",
       "      <td>No</td>\n",
       "      <td>Bank transfer (automatic)</td>\n",
       "      <td>42.30</td>\n",
       "      <td>1840.75</td>\n",
       "      <td>No</td>\n",
       "    </tr>\n",
       "    <tr>\n",
       "      <th>4</th>\n",
       "      <td>9237-HQITU</td>\n",
       "      <td>Female</td>\n",
       "      <td>0</td>\n",
       "      <td>No</td>\n",
       "      <td>No</td>\n",
       "      <td>2</td>\n",
       "      <td>Yes</td>\n",
       "      <td>No</td>\n",
       "      <td>Fiber optic</td>\n",
       "      <td>No</td>\n",
       "      <td>...</td>\n",
       "      <td>No</td>\n",
       "      <td>No</td>\n",
       "      <td>No</td>\n",
       "      <td>No</td>\n",
       "      <td>Month-to-month</td>\n",
       "      <td>Yes</td>\n",
       "      <td>Electronic check</td>\n",
       "      <td>70.70</td>\n",
       "      <td>151.65</td>\n",
       "      <td>Yes</td>\n",
       "    </tr>\n",
       "  </tbody>\n",
       "</table>\n",
       "<p>5 rows × 21 columns</p>\n",
       "</div>"
      ],
      "text/plain": [
       "   customerID  gender  SeniorCitizen Partner Dependents  tenure PhoneService  \\\n",
       "0  7590-VHVEG  Female              0     Yes         No       1           No   \n",
       "1  5575-GNVDE    Male              0      No         No      34          Yes   \n",
       "2  3668-QPYBK    Male              0      No         No       2          Yes   \n",
       "3  7795-CFOCW    Male              0      No         No      45           No   \n",
       "4  9237-HQITU  Female              0      No         No       2          Yes   \n",
       "\n",
       "      MultipleLines InternetService OnlineSecurity  ... DeviceProtection  \\\n",
       "0  No phone service             DSL             No  ...               No   \n",
       "1                No             DSL            Yes  ...              Yes   \n",
       "2                No             DSL            Yes  ...               No   \n",
       "3  No phone service             DSL            Yes  ...              Yes   \n",
       "4                No     Fiber optic             No  ...               No   \n",
       "\n",
       "  TechSupport StreamingTV StreamingMovies        Contract PaperlessBilling  \\\n",
       "0          No          No              No  Month-to-month              Yes   \n",
       "1          No          No              No        One year               No   \n",
       "2          No          No              No  Month-to-month              Yes   \n",
       "3         Yes          No              No        One year               No   \n",
       "4          No          No              No  Month-to-month              Yes   \n",
       "\n",
       "               PaymentMethod MonthlyCharges  TotalCharges Churn  \n",
       "0           Electronic check          29.85         29.85    No  \n",
       "1               Mailed check          56.95        1889.5    No  \n",
       "2               Mailed check          53.85        108.15   Yes  \n",
       "3  Bank transfer (automatic)          42.30       1840.75    No  \n",
       "4           Electronic check          70.70        151.65   Yes  \n",
       "\n",
       "[5 rows x 21 columns]"
      ]
     },
     "execution_count": 277,
     "metadata": {},
     "output_type": "execute_result"
    }
   ],
   "source": [
    "df.head()"
   ]
  },
  {
   "cell_type": "code",
   "execution_count": 278,
   "id": "94b3281c",
   "metadata": {},
   "outputs": [
    {
     "data": {
      "text/plain": [
       "(7043, 21)"
      ]
     },
     "execution_count": 278,
     "metadata": {},
     "output_type": "execute_result"
    }
   ],
   "source": [
    "df.shape"
   ]
  },
  {
   "cell_type": "code",
   "execution_count": 279,
   "id": "7cad123e",
   "metadata": {},
   "outputs": [
    {
     "name": "stdout",
     "output_type": "stream",
     "text": [
      "<class 'pandas.core.frame.DataFrame'>\n",
      "RangeIndex: 7043 entries, 0 to 7042\n",
      "Data columns (total 21 columns):\n",
      " #   Column            Non-Null Count  Dtype  \n",
      "---  ------            --------------  -----  \n",
      " 0   customerID        7043 non-null   object \n",
      " 1   gender            7043 non-null   object \n",
      " 2   SeniorCitizen     7043 non-null   int64  \n",
      " 3   Partner           7043 non-null   object \n",
      " 4   Dependents        7043 non-null   object \n",
      " 5   tenure            7043 non-null   int64  \n",
      " 6   PhoneService      7043 non-null   object \n",
      " 7   MultipleLines     7043 non-null   object \n",
      " 8   InternetService   7043 non-null   object \n",
      " 9   OnlineSecurity    7043 non-null   object \n",
      " 10  OnlineBackup      7043 non-null   object \n",
      " 11  DeviceProtection  7043 non-null   object \n",
      " 12  TechSupport       7043 non-null   object \n",
      " 13  StreamingTV       7043 non-null   object \n",
      " 14  StreamingMovies   7043 non-null   object \n",
      " 15  Contract          7043 non-null   object \n",
      " 16  PaperlessBilling  7043 non-null   object \n",
      " 17  PaymentMethod     7043 non-null   object \n",
      " 18  MonthlyCharges    7043 non-null   float64\n",
      " 19  TotalCharges      7043 non-null   object \n",
      " 20  Churn             7043 non-null   object \n",
      "dtypes: float64(1), int64(2), object(18)\n",
      "memory usage: 1.1+ MB\n"
     ]
    }
   ],
   "source": [
    "df.info()"
   ]
  },
  {
   "cell_type": "code",
   "execution_count": 280,
   "id": "f80d8ad5",
   "metadata": {},
   "outputs": [],
   "source": [
    "col_countplot = ['gender','SeniorCitizen','PhoneService','MultipleLines','InternetService','OnlineSecurity','OnlineBackup','DeviceProtection','StreamingTV','StreamingMovies','Contract','PaperlessBilling','PaymentMethod','Churn']"
   ]
  },
  {
   "cell_type": "markdown",
   "id": "a3e791b6",
   "metadata": {},
   "source": [
    "Dataset has no missing values as all have 7043 null values"
   ]
  },
  {
   "cell_type": "code",
   "execution_count": 281,
   "id": "3a081cf4",
   "metadata": {},
   "outputs": [
    {
     "data": {
      "text/html": [
       "<div>\n",
       "<style scoped>\n",
       "    .dataframe tbody tr th:only-of-type {\n",
       "        vertical-align: middle;\n",
       "    }\n",
       "\n",
       "    .dataframe tbody tr th {\n",
       "        vertical-align: top;\n",
       "    }\n",
       "\n",
       "    .dataframe thead th {\n",
       "        text-align: right;\n",
       "    }\n",
       "</style>\n",
       "<table border=\"1\" class=\"dataframe\">\n",
       "  <thead>\n",
       "    <tr style=\"text-align: right;\">\n",
       "      <th></th>\n",
       "      <th>count</th>\n",
       "      <th>mean</th>\n",
       "      <th>std</th>\n",
       "      <th>min</th>\n",
       "      <th>25%</th>\n",
       "      <th>50%</th>\n",
       "      <th>75%</th>\n",
       "      <th>max</th>\n",
       "    </tr>\n",
       "  </thead>\n",
       "  <tbody>\n",
       "    <tr>\n",
       "      <th>SeniorCitizen</th>\n",
       "      <td>7043.0</td>\n",
       "      <td>0.162147</td>\n",
       "      <td>0.368612</td>\n",
       "      <td>0.00</td>\n",
       "      <td>0.0</td>\n",
       "      <td>0.00</td>\n",
       "      <td>0.00</td>\n",
       "      <td>1.00</td>\n",
       "    </tr>\n",
       "    <tr>\n",
       "      <th>tenure</th>\n",
       "      <td>7043.0</td>\n",
       "      <td>32.371149</td>\n",
       "      <td>24.559481</td>\n",
       "      <td>0.00</td>\n",
       "      <td>9.0</td>\n",
       "      <td>29.00</td>\n",
       "      <td>55.00</td>\n",
       "      <td>72.00</td>\n",
       "    </tr>\n",
       "    <tr>\n",
       "      <th>MonthlyCharges</th>\n",
       "      <td>7043.0</td>\n",
       "      <td>64.761692</td>\n",
       "      <td>30.090047</td>\n",
       "      <td>18.25</td>\n",
       "      <td>35.5</td>\n",
       "      <td>70.35</td>\n",
       "      <td>89.85</td>\n",
       "      <td>118.75</td>\n",
       "    </tr>\n",
       "  </tbody>\n",
       "</table>\n",
       "</div>"
      ],
      "text/plain": [
       "                 count       mean        std    min   25%    50%    75%  \\\n",
       "SeniorCitizen   7043.0   0.162147   0.368612   0.00   0.0   0.00   0.00   \n",
       "tenure          7043.0  32.371149  24.559481   0.00   9.0  29.00  55.00   \n",
       "MonthlyCharges  7043.0  64.761692  30.090047  18.25  35.5  70.35  89.85   \n",
       "\n",
       "                   max  \n",
       "SeniorCitizen     1.00  \n",
       "tenure           72.00  \n",
       "MonthlyCharges  118.75  "
      ]
     },
     "execution_count": 281,
     "metadata": {},
     "output_type": "execute_result"
    }
   ],
   "source": [
    "df.describe().transpose()"
   ]
  },
  {
   "cell_type": "markdown",
   "id": "2712b020",
   "metadata": {},
   "source": [
    "We can observe from the above cell that mean tenure of all the customer is ~32 months and average monthly charge is ~$64"
   ]
  },
  {
   "cell_type": "markdown",
   "id": "446af976",
   "metadata": {},
   "source": [
    "### Lets find out about contract types "
   ]
  },
  {
   "cell_type": "code",
   "execution_count": 282,
   "id": "50f6b4b1",
   "metadata": {},
   "outputs": [
    {
     "data": {
      "text/plain": [
       "array(['Month-to-month', 'One year', 'Two year'], dtype=object)"
      ]
     },
     "execution_count": 282,
     "metadata": {},
     "output_type": "execute_result"
    }
   ],
   "source": [
    "df['Contract'].unique()"
   ]
  },
  {
   "cell_type": "markdown",
   "id": "8256b9bd",
   "metadata": {},
   "source": [
    "So there are three type of contracts that is monthly based,one year and two year."
   ]
  },
  {
   "cell_type": "code",
   "execution_count": 283,
   "id": "d1845299",
   "metadata": {},
   "outputs": [],
   "source": [
    "col_countplot = ['gender','SeniorCitizen','PhoneService','MultipleLines','InternetService','OnlineSecurity','StreamingTV','StreamingMovies','Contract','PaperlessBilling','PaymentMethod','Churn']"
   ]
  },
  {
   "cell_type": "code",
   "execution_count": 284,
   "id": "c7d9cf28",
   "metadata": {},
   "outputs": [
    {
     "data": {
      "text/plain": [
       "12"
      ]
     },
     "execution_count": 284,
     "metadata": {},
     "output_type": "execute_result"
    }
   ],
   "source": [
    "len(col_countplot)"
   ]
  },
  {
   "cell_type": "markdown",
   "id": "df60f363",
   "metadata": {},
   "source": [
    "## Lets plot some graph to get some insight about the dataset "
   ]
  },
  {
   "cell_type": "code",
   "execution_count": 285,
   "id": "0df2234c",
   "metadata": {},
   "outputs": [
    {
     "data": {
      "text/plain": [
       "\"'nrow = 4\\nncol = 3\\n\\nfig,sub = plt.subplots(nrows=nrow,ncols=ncol,figsize=(20,20),facecolor='white')\\nfor i in range(nrow):\\n    for j in range(ncol):\\n        sub[(i,j)]\\n        \""
      ]
     },
     "execution_count": 285,
     "metadata": {},
     "output_type": "execute_result"
    }
   ],
   "source": [
    "''''nrow = 4\n",
    "ncol = 3\n",
    "\n",
    "fig,sub = plt.subplots(nrows=nrow,ncols=ncol,figsize=(20,20),facecolor='white')\n",
    "for i in range(nrow):\n",
    "    for j in range(ncol):\n",
    "        sub[(i,j)]\n",
    "        '''"
   ]
  },
  {
   "cell_type": "markdown",
   "id": "5b5a95d1",
   "metadata": {},
   "source": [
    "#### lets see distribution of gender"
   ]
  },
  {
   "cell_type": "code",
   "execution_count": 286,
   "id": "6a1acb58",
   "metadata": {},
   "outputs": [
    {
     "data": {
      "text/plain": [
       "<AxesSubplot:xlabel='gender', ylabel='count'>"
      ]
     },
     "execution_count": 286,
     "metadata": {},
     "output_type": "execute_result"
    },
    {
     "data": {
      "image/png": "[encoded data removed]",
      "text/plain": [
       "<Figure size 432x288 with 1 Axes>"
      ]
     },
     "metadata": {
      "needs_background": "light"
     },
     "output_type": "display_data"
    }
   ],
   "source": [
    "sb.countplot(data=df,x='gender',hue='SeniorCitizen')"
   ]
  },
  {
   "cell_type": "markdown",
   "id": "39523f24",
   "metadata": {},
   "source": [
    "We can observbe from the above viz that dataset contains equal number of both the genders and same numbers of senior citizen."
   ]
  },
  {
   "cell_type": "code",
   "execution_count": 287,
   "id": "a937fa40",
   "metadata": {},
   "outputs": [
    {
     "data": {
      "text/plain": [
       "<AxesSubplot:xlabel='PhoneService', ylabel='count'>"
      ]
     },
     "execution_count": 287,
     "metadata": {},
     "output_type": "execute_result"
    },
    {
     "data": {
      "image/png": "[encoded data removed]",
      "text/plain": [
       "<Figure size 432x288 with 1 Axes>"
      ]
     },
     "metadata": {
      "needs_background": "light"
     },
     "output_type": "display_data"
    }
   ],
   "source": [
    "sb.countplot(data=df,x='PhoneService')"
   ]
  },
  {
   "cell_type": "markdown",
   "id": "4f006010",
   "metadata": {},
   "source": [
    "We can see that most people have not signed up for the phone service."
   ]
  },
  {
   "cell_type": "code",
   "execution_count": 288,
   "id": "bd23a3e4",
   "metadata": {},
   "outputs": [
    {
     "data": {
      "text/plain": [
       "<AxesSubplot:xlabel='InternetService', ylabel='count'>"
      ]
     },
     "execution_count": 288,
     "metadata": {},
     "output_type": "execute_result"
    },
    {
     "data": {
      "image/png": "[encoded data removed]",
      "text/plain": [
       "<Figure size 432x288 with 1 Axes>"
      ]
     },
     "metadata": {
      "needs_background": "light"
     },
     "output_type": "display_data"
    }
   ],
   "source": [
    "sb.countplot(data=df,x='InternetService')"
   ]
  },
  {
   "cell_type": "markdown",
   "id": "848b04c9",
   "metadata": {},
   "source": [
    "Fiber optic based internet service is the dominant tecnology followed by dsl."
   ]
  },
  {
   "cell_type": "code",
   "execution_count": 289,
   "id": "65b3c440",
   "metadata": {},
   "outputs": [
    {
     "data": {
      "text/plain": [
       "<AxesSubplot:xlabel='OnlineSecurity', ylabel='count'>"
      ]
     },
     "execution_count": 289,
     "metadata": {},
     "output_type": "execute_result"
    },
    {
     "data": {
      "image/png": "[encoded data removed]",
      "text/plain": [
       "<Figure size 432x288 with 1 Axes>"
      ]
     },
     "metadata": {
      "needs_background": "light"
     },
     "output_type": "display_data"
    }
   ],
   "source": [
    "sb.countplot(data=df,x='OnlineSecurity')"
   ]
  },
  {
   "cell_type": "markdown",
   "id": "0efe9ab5",
   "metadata": {},
   "source": [
    "Most people don't look intrested in online security."
   ]
  },
  {
   "cell_type": "code",
   "execution_count": 290,
   "id": "3960182e",
   "metadata": {},
   "outputs": [
    {
     "data": {
      "text/plain": [
       "<AxesSubplot:xlabel='StreamingTV', ylabel='count'>"
      ]
     },
     "execution_count": 290,
     "metadata": {},
     "output_type": "execute_result"
    },
    {
     "data": {
      "image/png": "[encoded data removed]",
      "text/plain": [
       "<Figure size 432x288 with 1 Axes>"
      ]
     },
     "metadata": {
      "needs_background": "light"
     },
     "output_type": "display_data"
    }
   ],
   "source": [
    "sb.countplot(data=df,x='StreamingTV')"
   ]
  },
  {
   "cell_type": "markdown",
   "id": "6a63cd48",
   "metadata": {},
   "source": [
    "good number of customers are intrested in streaming-tv"
   ]
  },
  {
   "cell_type": "code",
   "execution_count": 291,
   "id": "6ce22092",
   "metadata": {},
   "outputs": [
    {
     "data": {
      "text/plain": [
       "<AxesSubplot:xlabel='StreamingMovies', ylabel='count'>"
      ]
     },
     "execution_count": 291,
     "metadata": {},
     "output_type": "execute_result"
    },
    {
     "data": {
      "image/png": "[encoded data removed]",
      "text/plain": [
       "<Figure size 432x288 with 1 Axes>"
      ]
     },
     "metadata": {
      "needs_background": "light"
     },
     "output_type": "display_data"
    }
   ],
   "source": [
    "sb.countplot(data=df,x='StreamingMovies')"
   ]
  },
  {
   "cell_type": "code",
   "execution_count": 292,
   "id": "ccd998a5",
   "metadata": {},
   "outputs": [
    {
     "data": {
      "text/plain": [
       "<AxesSubplot:xlabel='Contract', ylabel='count'>"
      ]
     },
     "execution_count": 292,
     "metadata": {},
     "output_type": "execute_result"
    },
    {
     "data": {
      "image/png": "[encoded data removed]",
      "text/plain": [
       "<Figure size 432x288 with 1 Axes>"
      ]
     },
     "metadata": {
      "needs_background": "light"
     },
     "output_type": "display_data"
    }
   ],
   "source": [
    "sb.countplot(data=df,x='Contract')"
   ]
  },
  {
   "cell_type": "markdown",
   "id": "13ad8945",
   "metadata": {},
   "source": [
    "Most customers are on month-to-month based contracts  followed by customers with one year contract and two year contract. We can say twice the number of customers are relying on month-to-month contract than  yearly based contracts."
   ]
  },
  {
   "cell_type": "code",
   "execution_count": 293,
   "id": "a2ae58c4",
   "metadata": {},
   "outputs": [
    {
     "data": {
      "text/plain": [
       "<AxesSubplot:xlabel='PaperlessBilling', ylabel='count'>"
      ]
     },
     "execution_count": 293,
     "metadata": {},
     "output_type": "execute_result"
    },
    {
     "data": {
      "image/png": "[encoded data removed]",
      "text/plain": [
       "<Figure size 432x288 with 1 Axes>"
      ]
     },
     "metadata": {
      "needs_background": "light"
     },
     "output_type": "display_data"
    }
   ],
   "source": [
    "sb.countplot(data=df,x='PaperlessBilling')"
   ]
  },
  {
   "cell_type": "markdown",
   "id": "b3fc4058",
   "metadata": {},
   "source": [
    "We can see paperless billing is gaining pace among customers day by day. Paper less billing is profitable for companies since they don't have to hire staff and resources for handling all those paper bills."
   ]
  },
  {
   "cell_type": "code",
   "execution_count": 294,
   "id": "758d92a3",
   "metadata": {},
   "outputs": [
    {
     "data": {
      "text/plain": [
       "<AxesSubplot:xlabel='PaymentMethod', ylabel='count'>"
      ]
     },
     "execution_count": 294,
     "metadata": {},
     "output_type": "execute_result"
    },
    {
     "data": {
      "image/png": "[encoded data removed]",
      "text/plain": [
       "<Figure size 1080x576 with 1 Axes>"
      ]
     },
     "metadata": {
      "needs_background": "light"
     },
     "output_type": "display_data"
    }
   ],
   "source": [
    "plt.figure(figsize=(15,8))\n",
    "sb.countplot(data=df,x='PaymentMethod')"
   ]
  },
  {
   "cell_type": "code",
   "execution_count": 295,
   "id": "28540cff",
   "metadata": {},
   "outputs": [],
   "source": [
    "def without_hue(ax, feature):\n",
    "    total = len(feature)\n",
    "    for p in ax.patches:\n",
    "        percentage = '{:.1f}%'.format(100 * p.get_height()/total)\n",
    "        x = p.get_x() + p.get_width() / 2 - 0.05\n",
    "        y = p.get_y() + p.get_height()\n",
    "        ax.annotate(percentage, (x, y), size = 12)"
   ]
  },
  {
   "cell_type": "markdown",
   "id": "559d8bb9",
   "metadata": {},
   "source": [
    "We can see digital payments are taking over."
   ]
  },
  {
   "cell_type": "code",
   "execution_count": 296,
   "id": "06355dca",
   "metadata": {
    "scrolled": false
   },
   "outputs": [
    {
     "data": {
      "image/png": "[encoded data removed]",
      "text/plain": [
       "<Figure size 432x288 with 1 Axes>"
      ]
     },
     "metadata": {
      "needs_background": "light"
     },
     "output_type": "display_data"
    }
   ],
   "source": [
    "ax = sb.countplot(data=df,x='Churn')\n",
    "without_hue(ax,df.Churn)"
   ]
  },
  {
   "cell_type": "markdown",
   "id": "9c7a1a6d",
   "metadata": {},
   "source": [
    "## There are several categorical variables in this dataset and we need to do something about them. "
   ]
  },
  {
   "cell_type": "markdown",
   "id": "fa70d85e",
   "metadata": {},
   "source": [
    "We will label encode categorical variables with two unique values and for categorical variables with more than two unique values we use label encoding and one hot encoding"
   ]
  },
  {
   "cell_type": "code",
   "execution_count": 297,
   "id": "681976ab",
   "metadata": {},
   "outputs": [],
   "source": [
    "from sklearn import preprocessing \n",
    "LE = preprocessing.LabelEncoder()"
   ]
  },
  {
   "cell_type": "markdown",
   "id": "eeec366d",
   "metadata": {},
   "source": [
    "####  Now we will use a loop over categorical variables"
   ]
  },
  {
   "cell_type": "code",
   "execution_count": 298,
   "id": "c0a9df71",
   "metadata": {},
   "outputs": [
    {
     "name": "stdout",
     "output_type": "stream",
     "text": [
      "6 columns were label encoded\n"
     ]
    }
   ],
   "source": [
    "le_count = 0\n",
    "for col in df.columns[1:]:\n",
    "    if df[col].dtype == 'object':\n",
    "        if len(list(df[col].unique())) <=2:\n",
    "            LE.fit(df[col])\n",
    "            df[col] = LE.transform(df[col])\n",
    "            le_count +=1\n",
    "print(\"{} columns were label encoded\".format(le_count))"
   ]
  },
  {
   "cell_type": "code",
   "execution_count": 299,
   "id": "7f044814",
   "metadata": {},
   "outputs": [
    {
     "data": {
      "text/plain": [
       "Index(['customerID', 'gender', 'SeniorCitizen', 'Partner', 'Dependents',\n",
       "       'tenure', 'PhoneService', 'MultipleLines', 'InternetService',\n",
       "       'OnlineSecurity', 'OnlineBackup', 'DeviceProtection', 'TechSupport',\n",
       "       'StreamingTV', 'StreamingMovies', 'Contract', 'PaperlessBilling',\n",
       "       'PaymentMethod', 'MonthlyCharges', 'TotalCharges', 'Churn'],\n",
       "      dtype='object')"
      ]
     },
     "execution_count": 299,
     "metadata": {},
     "output_type": "execute_result"
    }
   ],
   "source": [
    "df.columns"
   ]
  },
  {
   "cell_type": "markdown",
   "id": "29674398",
   "metadata": {},
   "source": [
    "## Checking the covariance between variables"
   ]
  },
  {
   "cell_type": "code",
   "execution_count": 300,
   "id": "af4c5dfd",
   "metadata": {},
   "outputs": [],
   "source": [
    "covi = np.cov(df.SeniorCitizen,df.Churn)"
   ]
  },
  {
   "cell_type": "code",
   "execution_count": 301,
   "id": "0cc5b15d",
   "metadata": {},
   "outputs": [
    {
     "data": {
      "text/plain": [
       "array([[0.13587452, 0.02455944],\n",
       "       [0.02455944, 0.19497639]])"
      ]
     },
     "execution_count": 301,
     "metadata": {},
     "output_type": "execute_result"
    }
   ],
   "source": [
    "covi"
   ]
  },
  {
   "cell_type": "code",
   "execution_count": 302,
   "id": "32cb095f",
   "metadata": {},
   "outputs": [
    {
     "data": {
      "text/plain": [
       "0.13585522365412622"
      ]
     },
     "execution_count": 302,
     "metadata": {},
     "output_type": "execute_result"
    }
   ],
   "source": [
    "np.var(df.SeniorCitizen)"
   ]
  },
  {
   "cell_type": "code",
   "execution_count": 303,
   "id": "f1970e0e",
   "metadata": {},
   "outputs": [],
   "source": [
    "from scipy.stats import pearsonr"
   ]
  },
  {
   "cell_type": "code",
   "execution_count": 304,
   "id": "efe8c911",
   "metadata": {},
   "outputs": [],
   "source": [
    "corr, _ = pearsonr(df.SeniorCitizen,df.Churn)"
   ]
  },
  {
   "cell_type": "code",
   "execution_count": 305,
   "id": "a1ac9957",
   "metadata": {},
   "outputs": [
    {
     "data": {
      "text/plain": [
       "0.1508893281764731"
      ]
     },
     "execution_count": 305,
     "metadata": {},
     "output_type": "execute_result"
    }
   ],
   "source": [
    "corr"
   ]
  },
  {
   "cell_type": "code",
   "execution_count": 306,
   "id": "5cd78976",
   "metadata": {},
   "outputs": [],
   "source": [
    "df2 = df[['SeniorCitizen', 'Partner', 'Dependents',\n",
    "       'tenure', 'PhoneService', 'PaperlessBilling',\n",
    "        'MonthlyCharges', 'TotalCharges','Churn']]"
   ]
  },
  {
   "cell_type": "code",
   "execution_count": 307,
   "id": "fa3c24e0",
   "metadata": {},
   "outputs": [
    {
     "data": {
      "text/html": [
       "<div>\n",
       "<style scoped>\n",
       "    .dataframe tbody tr th:only-of-type {\n",
       "        vertical-align: middle;\n",
       "    }\n",
       "\n",
       "    .dataframe tbody tr th {\n",
       "        vertical-align: top;\n",
       "    }\n",
       "\n",
       "    .dataframe thead th {\n",
       "        text-align: right;\n",
       "    }\n",
       "</style>\n",
       "<table border=\"1\" class=\"dataframe\">\n",
       "  <thead>\n",
       "    <tr style=\"text-align: right;\">\n",
       "      <th></th>\n",
       "      <th>SeniorCitizen</th>\n",
       "      <th>Partner</th>\n",
       "      <th>Dependents</th>\n",
       "      <th>tenure</th>\n",
       "      <th>PhoneService</th>\n",
       "      <th>PaperlessBilling</th>\n",
       "      <th>MonthlyCharges</th>\n",
       "      <th>TotalCharges</th>\n",
       "      <th>Churn</th>\n",
       "    </tr>\n",
       "  </thead>\n",
       "  <tbody>\n",
       "    <tr>\n",
       "      <th>0</th>\n",
       "      <td>0</td>\n",
       "      <td>1</td>\n",
       "      <td>0</td>\n",
       "      <td>1</td>\n",
       "      <td>0</td>\n",
       "      <td>1</td>\n",
       "      <td>29.85</td>\n",
       "      <td>29.85</td>\n",
       "      <td>0</td>\n",
       "    </tr>\n",
       "    <tr>\n",
       "      <th>1</th>\n",
       "      <td>0</td>\n",
       "      <td>0</td>\n",
       "      <td>0</td>\n",
       "      <td>34</td>\n",
       "      <td>1</td>\n",
       "      <td>0</td>\n",
       "      <td>56.95</td>\n",
       "      <td>1889.5</td>\n",
       "      <td>0</td>\n",
       "    </tr>\n",
       "    <tr>\n",
       "      <th>2</th>\n",
       "      <td>0</td>\n",
       "      <td>0</td>\n",
       "      <td>0</td>\n",
       "      <td>2</td>\n",
       "      <td>1</td>\n",
       "      <td>1</td>\n",
       "      <td>53.85</td>\n",
       "      <td>108.15</td>\n",
       "      <td>1</td>\n",
       "    </tr>\n",
       "    <tr>\n",
       "      <th>3</th>\n",
       "      <td>0</td>\n",
       "      <td>0</td>\n",
       "      <td>0</td>\n",
       "      <td>45</td>\n",
       "      <td>0</td>\n",
       "      <td>0</td>\n",
       "      <td>42.30</td>\n",
       "      <td>1840.75</td>\n",
       "      <td>0</td>\n",
       "    </tr>\n",
       "    <tr>\n",
       "      <th>4</th>\n",
       "      <td>0</td>\n",
       "      <td>0</td>\n",
       "      <td>0</td>\n",
       "      <td>2</td>\n",
       "      <td>1</td>\n",
       "      <td>1</td>\n",
       "      <td>70.70</td>\n",
       "      <td>151.65</td>\n",
       "      <td>1</td>\n",
       "    </tr>\n",
       "  </tbody>\n",
       "</table>\n",
       "</div>"
      ],
      "text/plain": [
       "   SeniorCitizen  Partner  Dependents  tenure  PhoneService  PaperlessBilling  \\\n",
       "0              0        1           0       1             0                 1   \n",
       "1              0        0           0      34             1                 0   \n",
       "2              0        0           0       2             1                 1   \n",
       "3              0        0           0      45             0                 0   \n",
       "4              0        0           0       2             1                 1   \n",
       "\n",
       "   MonthlyCharges TotalCharges  Churn  \n",
       "0           29.85        29.85      0  \n",
       "1           56.95       1889.5      0  \n",
       "2           53.85       108.15      1  \n",
       "3           42.30      1840.75      0  \n",
       "4           70.70       151.65      1  "
      ]
     },
     "execution_count": 307,
     "metadata": {},
     "output_type": "execute_result"
    }
   ],
   "source": [
    "df2.head()"
   ]
  },
  {
   "cell_type": "code",
   "execution_count": 308,
   "id": "cadd1700",
   "metadata": {},
   "outputs": [
    {
     "name": "stdout",
     "output_type": "stream",
     "text": [
      "<class 'pandas.core.frame.DataFrame'>\n",
      "RangeIndex: 7043 entries, 0 to 7042\n",
      "Data columns (total 9 columns):\n",
      " #   Column            Non-Null Count  Dtype  \n",
      "---  ------            --------------  -----  \n",
      " 0   SeniorCitizen     7043 non-null   int64  \n",
      " 1   Partner           7043 non-null   int32  \n",
      " 2   Dependents        7043 non-null   int32  \n",
      " 3   tenure            7043 non-null   int64  \n",
      " 4   PhoneService      7043 non-null   int32  \n",
      " 5   PaperlessBilling  7043 non-null   int32  \n",
      " 6   MonthlyCharges    7043 non-null   float64\n",
      " 7   TotalCharges      7043 non-null   object \n",
      " 8   Churn             7043 non-null   int32  \n",
      "dtypes: float64(1), int32(5), int64(2), object(1)\n",
      "memory usage: 357.8+ KB\n"
     ]
    }
   ],
   "source": [
    "df2.info()"
   ]
  },
  {
   "cell_type": "code",
   "execution_count": 309,
   "id": "ee67551b",
   "metadata": {},
   "outputs": [],
   "source": [
    "from scipy.stats import spearmanr"
   ]
  },
  {
   "cell_type": "code",
   "execution_count": 310,
   "id": "ba9b6e06",
   "metadata": {},
   "outputs": [],
   "source": [
    "list_tot_charg = list(df2.TotalCharges.astype(str))"
   ]
  },
  {
   "cell_type": "code",
   "execution_count": 311,
   "id": "cd551b79",
   "metadata": {},
   "outputs": [],
   "source": [
    "list_tot_charg  = [x.strip() for x in list_tot_charg]"
   ]
  },
  {
   "cell_type": "code",
   "execution_count": 312,
   "id": "3fade911",
   "metadata": {
    "scrolled": true
   },
   "outputs": [
    {
     "name": "stderr",
     "output_type": "stream",
     "text": [
      "C:\\Users\\mkmy\\anaconda3\\lib\\site-packages\\pandas\\core\\frame.py:4906: SettingWithCopyWarning: \n",
      "A value is trying to be set on a copy of a slice from a DataFrame\n",
      "\n",
      "See the caveats in the documentation: https://pandas.pydata.org/pandas-docs/stable/user_guide/indexing.html#returning-a-view-versus-a-copy\n",
      "  return super().drop(\n"
     ]
    }
   ],
   "source": [
    "df2.drop('TotalCharges',axis=1,inplace=True)"
   ]
  },
  {
   "cell_type": "code",
   "execution_count": 313,
   "id": "9da26aa0",
   "metadata": {},
   "outputs": [
    {
     "name": "stderr",
     "output_type": "stream",
     "text": [
      "C:\\Users\\mkmy\\AppData\\Local\\Temp/ipykernel_14560/3601792853.py:1: SettingWithCopyWarning: \n",
      "A value is trying to be set on a copy of a slice from a DataFrame.\n",
      "Try using .loc[row_indexer,col_indexer] = value instead\n",
      "\n",
      "See the caveats in the documentation: https://pandas.pydata.org/pandas-docs/stable/user_guide/indexing.html#returning-a-view-versus-a-copy\n",
      "  df2['TotalCharges'] = list_tot_charg\n"
     ]
    }
   ],
   "source": [
    "df2['TotalCharges'] = list_tot_charg"
   ]
  },
  {
   "cell_type": "code",
   "execution_count": 314,
   "id": "f2d451d7",
   "metadata": {},
   "outputs": [
    {
     "name": "stdout",
     "output_type": "stream",
     "text": [
      "<class 'pandas.core.frame.DataFrame'>\n",
      "RangeIndex: 7043 entries, 0 to 7042\n",
      "Data columns (total 9 columns):\n",
      " #   Column            Non-Null Count  Dtype  \n",
      "---  ------            --------------  -----  \n",
      " 0   SeniorCitizen     7043 non-null   int64  \n",
      " 1   Partner           7043 non-null   int32  \n",
      " 2   Dependents        7043 non-null   int32  \n",
      " 3   tenure            7043 non-null   int64  \n",
      " 4   PhoneService      7043 non-null   int32  \n",
      " 5   PaperlessBilling  7043 non-null   int32  \n",
      " 6   MonthlyCharges    7043 non-null   float64\n",
      " 7   Churn             7043 non-null   int32  \n",
      " 8   TotalCharges      7043 non-null   object \n",
      "dtypes: float64(1), int32(5), int64(2), object(1)\n",
      "memory usage: 357.8+ KB\n"
     ]
    }
   ],
   "source": [
    "df2.info()"
   ]
  },
  {
   "cell_type": "code",
   "execution_count": 315,
   "id": "0dc52ddd",
   "metadata": {},
   "outputs": [
    {
     "data": {
      "text/plain": [
       "11"
      ]
     },
     "execution_count": 315,
     "metadata": {},
     "output_type": "execute_result"
    }
   ],
   "source": [
    "sum(df2.TotalCharges=='')"
   ]
  },
  {
   "cell_type": "code",
   "execution_count": 316,
   "id": "24ceac11",
   "metadata": {
    "scrolled": true
   },
   "outputs": [
    {
     "data": {
      "text/html": [
       "<div>\n",
       "<style scoped>\n",
       "    .dataframe tbody tr th:only-of-type {\n",
       "        vertical-align: middle;\n",
       "    }\n",
       "\n",
       "    .dataframe tbody tr th {\n",
       "        vertical-align: top;\n",
       "    }\n",
       "\n",
       "    .dataframe thead th {\n",
       "        text-align: right;\n",
       "    }\n",
       "</style>\n",
       "<table border=\"1\" class=\"dataframe\">\n",
       "  <thead>\n",
       "    <tr style=\"text-align: right;\">\n",
       "      <th></th>\n",
       "      <th>SeniorCitizen</th>\n",
       "      <th>Partner</th>\n",
       "      <th>Dependents</th>\n",
       "      <th>tenure</th>\n",
       "      <th>PhoneService</th>\n",
       "      <th>PaperlessBilling</th>\n",
       "      <th>MonthlyCharges</th>\n",
       "      <th>Churn</th>\n",
       "      <th>TotalCharges</th>\n",
       "    </tr>\n",
       "  </thead>\n",
       "  <tbody>\n",
       "    <tr>\n",
       "      <th>488</th>\n",
       "      <td>0</td>\n",
       "      <td>1</td>\n",
       "      <td>1</td>\n",
       "      <td>0</td>\n",
       "      <td>0</td>\n",
       "      <td>1</td>\n",
       "      <td>52.55</td>\n",
       "      <td>0</td>\n",
       "      <td></td>\n",
       "    </tr>\n",
       "    <tr>\n",
       "      <th>753</th>\n",
       "      <td>0</td>\n",
       "      <td>0</td>\n",
       "      <td>1</td>\n",
       "      <td>0</td>\n",
       "      <td>1</td>\n",
       "      <td>0</td>\n",
       "      <td>20.25</td>\n",
       "      <td>0</td>\n",
       "      <td></td>\n",
       "    </tr>\n",
       "    <tr>\n",
       "      <th>936</th>\n",
       "      <td>0</td>\n",
       "      <td>1</td>\n",
       "      <td>1</td>\n",
       "      <td>0</td>\n",
       "      <td>1</td>\n",
       "      <td>0</td>\n",
       "      <td>80.85</td>\n",
       "      <td>0</td>\n",
       "      <td></td>\n",
       "    </tr>\n",
       "    <tr>\n",
       "      <th>1082</th>\n",
       "      <td>0</td>\n",
       "      <td>1</td>\n",
       "      <td>1</td>\n",
       "      <td>0</td>\n",
       "      <td>1</td>\n",
       "      <td>0</td>\n",
       "      <td>25.75</td>\n",
       "      <td>0</td>\n",
       "      <td></td>\n",
       "    </tr>\n",
       "    <tr>\n",
       "      <th>1340</th>\n",
       "      <td>0</td>\n",
       "      <td>1</td>\n",
       "      <td>1</td>\n",
       "      <td>0</td>\n",
       "      <td>0</td>\n",
       "      <td>0</td>\n",
       "      <td>56.05</td>\n",
       "      <td>0</td>\n",
       "      <td></td>\n",
       "    </tr>\n",
       "    <tr>\n",
       "      <th>3331</th>\n",
       "      <td>0</td>\n",
       "      <td>1</td>\n",
       "      <td>1</td>\n",
       "      <td>0</td>\n",
       "      <td>1</td>\n",
       "      <td>0</td>\n",
       "      <td>19.85</td>\n",
       "      <td>0</td>\n",
       "      <td></td>\n",
       "    </tr>\n",
       "    <tr>\n",
       "      <th>3826</th>\n",
       "      <td>0</td>\n",
       "      <td>1</td>\n",
       "      <td>1</td>\n",
       "      <td>0</td>\n",
       "      <td>1</td>\n",
       "      <td>0</td>\n",
       "      <td>25.35</td>\n",
       "      <td>0</td>\n",
       "      <td></td>\n",
       "    </tr>\n",
       "    <tr>\n",
       "      <th>4380</th>\n",
       "      <td>0</td>\n",
       "      <td>1</td>\n",
       "      <td>1</td>\n",
       "      <td>0</td>\n",
       "      <td>1</td>\n",
       "      <td>0</td>\n",
       "      <td>20.00</td>\n",
       "      <td>0</td>\n",
       "      <td></td>\n",
       "    </tr>\n",
       "    <tr>\n",
       "      <th>5218</th>\n",
       "      <td>0</td>\n",
       "      <td>1</td>\n",
       "      <td>1</td>\n",
       "      <td>0</td>\n",
       "      <td>1</td>\n",
       "      <td>1</td>\n",
       "      <td>19.70</td>\n",
       "      <td>0</td>\n",
       "      <td></td>\n",
       "    </tr>\n",
       "    <tr>\n",
       "      <th>6670</th>\n",
       "      <td>0</td>\n",
       "      <td>1</td>\n",
       "      <td>1</td>\n",
       "      <td>0</td>\n",
       "      <td>1</td>\n",
       "      <td>0</td>\n",
       "      <td>73.35</td>\n",
       "      <td>0</td>\n",
       "      <td></td>\n",
       "    </tr>\n",
       "    <tr>\n",
       "      <th>6754</th>\n",
       "      <td>0</td>\n",
       "      <td>0</td>\n",
       "      <td>1</td>\n",
       "      <td>0</td>\n",
       "      <td>1</td>\n",
       "      <td>1</td>\n",
       "      <td>61.90</td>\n",
       "      <td>0</td>\n",
       "      <td></td>\n",
       "    </tr>\n",
       "  </tbody>\n",
       "</table>\n",
       "</div>"
      ],
      "text/plain": [
       "      SeniorCitizen  Partner  Dependents  tenure  PhoneService  \\\n",
       "488               0        1           1       0             0   \n",
       "753               0        0           1       0             1   \n",
       "936               0        1           1       0             1   \n",
       "1082              0        1           1       0             1   \n",
       "1340              0        1           1       0             0   \n",
       "3331              0        1           1       0             1   \n",
       "3826              0        1           1       0             1   \n",
       "4380              0        1           1       0             1   \n",
       "5218              0        1           1       0             1   \n",
       "6670              0        1           1       0             1   \n",
       "6754              0        0           1       0             1   \n",
       "\n",
       "      PaperlessBilling  MonthlyCharges  Churn TotalCharges  \n",
       "488                  1           52.55      0               \n",
       "753                  0           20.25      0               \n",
       "936                  0           80.85      0               \n",
       "1082                 0           25.75      0               \n",
       "1340                 0           56.05      0               \n",
       "3331                 0           19.85      0               \n",
       "3826                 0           25.35      0               \n",
       "4380                 0           20.00      0               \n",
       "5218                 1           19.70      0               \n",
       "6670                 0           73.35      0               \n",
       "6754                 1           61.90      0               "
      ]
     },
     "execution_count": 316,
     "metadata": {},
     "output_type": "execute_result"
    }
   ],
   "source": [
    "df2[df2.TotalCharges=='']"
   ]
  },
  {
   "cell_type": "code",
   "execution_count": 317,
   "id": "78410265",
   "metadata": {},
   "outputs": [],
   "source": [
    "df2 = df2[df2.TotalCharges != '']"
   ]
  },
  {
   "cell_type": "code",
   "execution_count": 318,
   "id": "bd38c1ef",
   "metadata": {},
   "outputs": [],
   "source": [
    "df2.TotalCharges = df2.TotalCharges.astype(str).astype(float)"
   ]
  },
  {
   "cell_type": "code",
   "execution_count": 319,
   "id": "1dac716c",
   "metadata": {},
   "outputs": [
    {
     "data": {
      "text/html": [
       "<div>\n",
       "<style scoped>\n",
       "    .dataframe tbody tr th:only-of-type {\n",
       "        vertical-align: middle;\n",
       "    }\n",
       "\n",
       "    .dataframe tbody tr th {\n",
       "        vertical-align: top;\n",
       "    }\n",
       "\n",
       "    .dataframe thead th {\n",
       "        text-align: right;\n",
       "    }\n",
       "</style>\n",
       "<table border=\"1\" class=\"dataframe\">\n",
       "  <thead>\n",
       "    <tr style=\"text-align: right;\">\n",
       "      <th></th>\n",
       "      <th>SeniorCitizen</th>\n",
       "      <th>Partner</th>\n",
       "      <th>Dependents</th>\n",
       "      <th>tenure</th>\n",
       "      <th>PhoneService</th>\n",
       "      <th>PaperlessBilling</th>\n",
       "      <th>MonthlyCharges</th>\n",
       "      <th>Churn</th>\n",
       "      <th>TotalCharges</th>\n",
       "    </tr>\n",
       "  </thead>\n",
       "  <tbody>\n",
       "    <tr>\n",
       "      <th>0</th>\n",
       "      <td>0</td>\n",
       "      <td>1</td>\n",
       "      <td>0</td>\n",
       "      <td>1</td>\n",
       "      <td>0</td>\n",
       "      <td>1</td>\n",
       "      <td>29.85</td>\n",
       "      <td>0</td>\n",
       "      <td>29.85</td>\n",
       "    </tr>\n",
       "    <tr>\n",
       "      <th>1</th>\n",
       "      <td>0</td>\n",
       "      <td>0</td>\n",
       "      <td>0</td>\n",
       "      <td>34</td>\n",
       "      <td>1</td>\n",
       "      <td>0</td>\n",
       "      <td>56.95</td>\n",
       "      <td>0</td>\n",
       "      <td>1889.50</td>\n",
       "    </tr>\n",
       "    <tr>\n",
       "      <th>2</th>\n",
       "      <td>0</td>\n",
       "      <td>0</td>\n",
       "      <td>0</td>\n",
       "      <td>2</td>\n",
       "      <td>1</td>\n",
       "      <td>1</td>\n",
       "      <td>53.85</td>\n",
       "      <td>1</td>\n",
       "      <td>108.15</td>\n",
       "    </tr>\n",
       "    <tr>\n",
       "      <th>3</th>\n",
       "      <td>0</td>\n",
       "      <td>0</td>\n",
       "      <td>0</td>\n",
       "      <td>45</td>\n",
       "      <td>0</td>\n",
       "      <td>0</td>\n",
       "      <td>42.30</td>\n",
       "      <td>0</td>\n",
       "      <td>1840.75</td>\n",
       "    </tr>\n",
       "    <tr>\n",
       "      <th>4</th>\n",
       "      <td>0</td>\n",
       "      <td>0</td>\n",
       "      <td>0</td>\n",
       "      <td>2</td>\n",
       "      <td>1</td>\n",
       "      <td>1</td>\n",
       "      <td>70.70</td>\n",
       "      <td>1</td>\n",
       "      <td>151.65</td>\n",
       "    </tr>\n",
       "  </tbody>\n",
       "</table>\n",
       "</div>"
      ],
      "text/plain": [
       "   SeniorCitizen  Partner  Dependents  tenure  PhoneService  PaperlessBilling  \\\n",
       "0              0        1           0       1             0                 1   \n",
       "1              0        0           0      34             1                 0   \n",
       "2              0        0           0       2             1                 1   \n",
       "3              0        0           0      45             0                 0   \n",
       "4              0        0           0       2             1                 1   \n",
       "\n",
       "   MonthlyCharges  Churn  TotalCharges  \n",
       "0           29.85      0         29.85  \n",
       "1           56.95      0       1889.50  \n",
       "2           53.85      1        108.15  \n",
       "3           42.30      0       1840.75  \n",
       "4           70.70      1        151.65  "
      ]
     },
     "execution_count": 319,
     "metadata": {},
     "output_type": "execute_result"
    }
   ],
   "source": [
    "df2.head()"
   ]
  },
  {
   "cell_type": "code",
   "execution_count": 320,
   "id": "9583dae1",
   "metadata": {},
   "outputs": [
    {
     "name": "stdout",
     "output_type": "stream",
     "text": [
      "<class 'pandas.core.frame.DataFrame'>\n",
      "Int64Index: 7032 entries, 0 to 7042\n",
      "Data columns (total 9 columns):\n",
      " #   Column            Non-Null Count  Dtype  \n",
      "---  ------            --------------  -----  \n",
      " 0   SeniorCitizen     7032 non-null   int64  \n",
      " 1   Partner           7032 non-null   int32  \n",
      " 2   Dependents        7032 non-null   int32  \n",
      " 3   tenure            7032 non-null   int64  \n",
      " 4   PhoneService      7032 non-null   int32  \n",
      " 5   PaperlessBilling  7032 non-null   int32  \n",
      " 6   MonthlyCharges    7032 non-null   float64\n",
      " 7   Churn             7032 non-null   int32  \n",
      " 8   TotalCharges      7032 non-null   float64\n",
      "dtypes: float64(2), int32(5), int64(2)\n",
      "memory usage: 412.0 KB\n"
     ]
    }
   ],
   "source": [
    "df2.info()"
   ]
  },
  {
   "cell_type": "code",
   "execution_count": 321,
   "id": "5fb6eac9",
   "metadata": {},
   "outputs": [
    {
     "data": {
      "text/plain": [
       "(7043, 21)"
      ]
     },
     "execution_count": 321,
     "metadata": {},
     "output_type": "execute_result"
    }
   ],
   "source": [
    "df.shape"
   ]
  },
  {
   "cell_type": "code",
   "execution_count": 322,
   "id": "7aba3e66",
   "metadata": {},
   "outputs": [
    {
     "data": {
      "text/plain": [
       "(7032, 9)"
      ]
     },
     "execution_count": 322,
     "metadata": {},
     "output_type": "execute_result"
    }
   ],
   "source": [
    "df2.shape"
   ]
  },
  {
   "cell_type": "code",
   "execution_count": 323,
   "id": "1445c5fb",
   "metadata": {},
   "outputs": [],
   "source": [
    "col_name = []\n",
    "corr_coef = []"
   ]
  },
  {
   "cell_type": "code",
   "execution_count": 324,
   "id": "70e4706d",
   "metadata": {},
   "outputs": [],
   "source": [
    "for i in df2.columns:\n",
    "    corr,_ =pearsonr(df2[i],df2.Churn)\n",
    "    col_name.append(i)\n",
    "    corr_coef.append(corr)"
   ]
  },
  {
   "cell_type": "code",
   "execution_count": 325,
   "id": "483353ad",
   "metadata": {},
   "outputs": [],
   "source": [
    "df3 = pd.DataFrame(list(zip(col_name, corr_coef)),\n",
    "               columns =['attribute', 'corr_coef'])"
   ]
  },
  {
   "cell_type": "code",
   "execution_count": 326,
   "id": "609eb4a4",
   "metadata": {
    "scrolled": true
   },
   "outputs": [
    {
     "data": {
      "text/plain": [
       "<AxesSubplot:xlabel='attribute', ylabel='corr_coef'>"
      ]
     },
     "execution_count": 326,
     "metadata": {},
     "output_type": "execute_result"
    },
    {
     "data": {
      "image/png": "[encoded data removed]",
      "text/plain": [
       "<Figure size 1080x576 with 1 Axes>"
      ]
     },
     "metadata": {
      "needs_background": "light"
     },
     "output_type": "display_data"
    }
   ],
   "source": [
    "plt.figure(figsize=(15,8))\n",
    "sb.barplot(data=df3,x='attribute',y='corr_coef')"
   ]
  },
  {
   "cell_type": "markdown",
   "id": "1bcb0bb8",
   "metadata": {},
   "source": []
  },
  {
   "cell_type": "markdown",
   "id": "b14ead24",
   "metadata": {},
   "source": [
    "### Now we will plot correlation matrix "
   ]
  },
  {
   "cell_type": "code",
   "execution_count": 327,
   "id": "f6ef12b2",
   "metadata": {},
   "outputs": [
    {
     "data": {
      "text/plain": [
       "<AxesSubplot:>"
      ]
     },
     "execution_count": 327,
     "metadata": {},
     "output_type": "execute_result"
    },
    {
     "data": {
      "image/png": "[encoded data removed]",
      "text/plain": [
       "<Figure size 1080x576 with 2 Axes>"
      ]
     },
     "metadata": {
      "needs_background": "light"
     },
     "output_type": "display_data"
    }
   ],
   "source": [
    "plt.figure(figsize=(15,8))\n",
    "sb.heatmap(df2.corr())"
   ]
  },
  {
   "cell_type": "markdown",
   "id": "ef5fcd9f",
   "metadata": {},
   "source": [
    "## Now we will check for multicolinearity "
   ]
  },
  {
   "cell_type": "markdown",
   "id": "ddaf58d4",
   "metadata": {},
   "source": [
    "The key purpose of a regression equation is to tell us the individual impact of each of the explanatory variables on the dependent/target variable and that is captured by the regression coefficients.\n",
    "So, a regression coefficient captures the average change in the dependent variable for 1 unit change in the explanatory variable, keeping all the other explanatory variables constant. Hence, if the explanatory variables are correlated it will not be possible to disentangle their individual effects on the target variable. This problem is known as <b>multicollinearity</b>. "
   ]
  },
  {
   "cell_type": "code",
   "execution_count": 328,
   "id": "619de862",
   "metadata": {},
   "outputs": [],
   "source": [
    "from statsmodels.stats.outliers_influence import variance_inflation_factor\n",
    "from statsmodels.tools.tools import add_constant\n"
   ]
  },
  {
   "cell_type": "code",
   "execution_count": 329,
   "id": "00cef652",
   "metadata": {},
   "outputs": [
    {
     "name": "stderr",
     "output_type": "stream",
     "text": [
      "C:\\Users\\mkmy\\anaconda3\\lib\\site-packages\\statsmodels\\tsa\\tsatools.py:142: FutureWarning: In a future version of pandas all arguments of concat except for the argument 'objs' will be keyword-only\n",
      "  x = pd.concat(x[::order], 1)\n"
     ]
    },
    {
     "data": {
      "text/plain": [
       "const               22.585330\n",
       "SeniorCitizen        1.119666\n",
       "Partner              1.458263\n",
       "Dependents           1.366070\n",
       "tenure               6.036191\n",
       "PhoneService         1.085214\n",
       "PaperlessBilling     1.179457\n",
       "MonthlyCharges       3.916534\n",
       "Churn                1.322484\n",
       "TotalCharges         9.757345\n",
       "dtype: float64"
      ]
     },
     "execution_count": 329,
     "metadata": {},
     "output_type": "execute_result"
    }
   ],
   "source": [
    "X = add_constant(df2)\n",
    "pd.Series([variance_inflation_factor(X.values, i) \n",
    "               for i in range(X.shape[1])], \n",
    "              index=X.columns)"
   ]
  },
  {
   "cell_type": "markdown",
   "id": "e195cb01",
   "metadata": {},
   "source": [
    "We can see tenure and totalcharges have high VIF(>5)"
   ]
  },
  {
   "cell_type": "markdown",
   "id": "b9ab52b3",
   "metadata": {},
   "source": [
    "#### We will try to use scatter plot to see the relationship between these two variables"
   ]
  },
  {
   "cell_type": "code",
   "execution_count": 330,
   "id": "074da828",
   "metadata": {},
   "outputs": [
    {
     "data": {
      "text/plain": [
       "<AxesSubplot:xlabel='TotalCharges', ylabel='tenure'>"
      ]
     },
     "execution_count": 330,
     "metadata": {},
     "output_type": "execute_result"
    },
    {
     "data": {
      "image/png": "[encoded data removed]",
      "text/plain": [
       "<Figure size 720x576 with 1 Axes>"
      ]
     },
     "metadata": {
      "needs_background": "light"
     },
     "output_type": "display_data"
    }
   ],
   "source": [
    "df2[['TotalCharges','tenure']].plot.scatter(x='TotalCharges',y='tenure',figsize=(10,8))"
   ]
  },
  {
   "cell_type": "markdown",
   "id": "089ee8b2",
   "metadata": {},
   "source": [
    "Now we will drop one of columns with high VIF to see if it helps in bring down the multicolinearity of among variables"
   ]
  },
  {
   "cell_type": "code",
   "execution_count": 331,
   "id": "99b3b117",
   "metadata": {},
   "outputs": [],
   "source": [
    "df4 = df2.drop('TotalCharges',axis=1)"
   ]
  },
  {
   "cell_type": "code",
   "execution_count": 332,
   "id": "ddbc1454",
   "metadata": {},
   "outputs": [
    {
     "data": {
      "text/plain": [
       "const               15.027467\n",
       "SeniorCitizen        1.118698\n",
       "Partner              1.458157\n",
       "Dependents           1.365927\n",
       "tenure               1.470087\n",
       "PhoneService         1.082756\n",
       "PaperlessBilling     1.178335\n",
       "MonthlyCharges       1.467009\n",
       "Churn                1.297790\n",
       "dtype: float64"
      ]
     },
     "execution_count": 332,
     "metadata": {},
     "output_type": "execute_result"
    }
   ],
   "source": [
    "X2 = add_constant(df4)\n",
    "pd.Series([variance_inflation_factor(X2.values, i) \n",
    "               for i in range(X2.shape[1])], \n",
    "              index=X2.columns)"
   ]
  },
  {
   "cell_type": "markdown",
   "id": "0e435587",
   "metadata": {},
   "source": [
    "VIF drops significantly for all variables"
   ]
  },
  {
   "cell_type": "code",
   "execution_count": null,
   "id": "01f2ff23",
   "metadata": {},
   "outputs": [],
   "source": []
  }
 ],
 "metadata": {
  "kernelspec": {
   "display_name": "Python 3 (ipykernel)",
   "language": "python",
   "name": "python3"
  },
  "language_info": {
   "codemirror_mode": {
    "name": "ipython",
    "version": 3
   },
   "file_extension": ".py",
   "mimetype": "text/x-python",
   "name": "python",
   "nbconvert_exporter": "python",
   "pygments_lexer": "ipython3",
   "version": "3.9.7"
  }
 },
 "nbformat": 4,
 "nbformat_minor": 5
}
